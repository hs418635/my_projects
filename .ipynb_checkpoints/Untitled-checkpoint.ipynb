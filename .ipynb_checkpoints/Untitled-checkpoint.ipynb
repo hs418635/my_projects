{
 "cells": [
  {
   "cell_type": "code",
   "execution_count": 3,
   "id": "bd15126d",
   "metadata": {},
   "outputs": [
    {
     "name": "stdout",
     "output_type": "stream",
     "text": [
      "Enter radius of circle: 20\n",
      "1256.0\n",
      "125.60000000000001\n"
     ]
    }
   ],
   "source": [
    "#Week-2\n",
    "\"\"\"OBJECTIVE:\"\"\"\n",
    "\"\"\"Create a Python class named Circle constructed by a radius and two methods which will compute the area and the perimeter of a circle.\"\"\"\n",
    "'Create a Python class named Circle constructed by a radius and two methods which will compute the area and the perimeter of a circle.'\n",
    "class Circle():\n",
    "    def __init__(self, r):\n",
    "        self.radius = r\n",
    "    def area(self):\n",
    "        return self.radius**2*3.14\n",
    "    def perimeter(self):\n",
    "        return 2*self.radius*3.14\n",
    "r=int(input(\"Enter radius of circle: \"))\n",
    "NewCircle = Circle(r)\n",
    "print(NewCircle.area())\n",
    "print(NewCircle.perimeter())"
   ]
  },
  {
   "cell_type": "code",
   "execution_count": 5,
   "id": "50d0d86b",
   "metadata": {},
   "outputs": [
    {
     "name": "stdout",
     "output_type": "stream",
     "text": [
      "Enter length of rectangle: 15\n",
      "Enter breadth of rectangle: 10\n",
      "150\n"
     ]
    }
   ],
   "source": [
    "\"\"\"Create a Python class named Rectangle constructed by a length and width and a method which will compute the area of a rectangle.\"\"\"\n",
    "'Create a Python class named Rectangle constructed by a length and width and a method which will compute the area of a rectangle.'\n",
    "class Rectangle():\n",
    "    def __init__(self, l, w):\n",
    "        self.length = l\n",
    "        self.width = w\n",
    "    def rectangle_area(self):\n",
    "        return self.length*self.width\n",
    "a=int(input(\"Enter length of rectangle: \"))\n",
    "b=int(input(\"Enter breadth of rectangle: \"))\n",
    "newRectangle = Rectangle(a, b)\n",
    "print(newRectangle.rectangle_area())"
   ]
  },
  {
   "cell_type": "code",
   "execution_count": null,
   "id": "71a21b39",
   "metadata": {},
   "outputs": [],
   "source": []
  }
 ],
 "metadata": {
  "kernelspec": {
   "display_name": "Python 3 (ipykernel)",
   "language": "python",
   "name": "python3"
  },
  "language_info": {
   "codemirror_mode": {
    "name": "ipython",
    "version": 3
   },
   "file_extension": ".py",
   "mimetype": "text/x-python",
   "name": "python",
   "nbconvert_exporter": "python",
   "pygments_lexer": "ipython3",
   "version": "3.9.12"
  }
 },
 "nbformat": 4,
 "nbformat_minor": 5
}
