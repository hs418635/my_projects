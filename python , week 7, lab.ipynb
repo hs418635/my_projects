{
 "cells": [
  {
   "cell_type": "code",
   "execution_count": 4,
   "id": "956e42e8",
   "metadata": {},
   "outputs": [],
   "source": [
    "import numpy as np\n",
    "import pandas as pd"
   ]
  },
  {
   "cell_type": "code",
   "execution_count": 7,
   "id": "dd9f3f41",
   "metadata": {},
   "outputs": [
    {
     "name": "stdout",
     "output_type": "stream",
     "text": [
      "     Team Rank  year  point\n",
      "0  Riders  2nd  2014    879\n",
      "1  Riders  2nd  2015    876\n",
      "2  Devils  1st  2015    673\n",
      "3    King  3rd  2013    899\n",
      "4  Royals  4th  2012    740\n",
      "Team\n",
      "Devils    673.0\n",
      "King      899.0\n",
      "Riders    877.5\n",
      "Royals    740.0\n",
      "Name: point, dtype: float64\n",
      "        Rank  year  point\n",
      "Team                     \n",
      "Devils     1     1      1\n",
      "King       1     1      1\n",
      "Riders     2     2      2\n",
      "Royals     1     1      1\n"
     ]
    }
   ],
   "source": [
    "#aggrigation\n",
    "df1=pd.DataFrame({\"Team\" :[\"Riders\",\"Riders\",\"Devils\",\"King\",\"Royals\"],\n",
    "       \"Rank\" :[\"2nd\",\"2nd\",\"1st\",\"3rd\",\"4th\"],\n",
    "       \"year\" :[2014,2015,2015,2013,2012],\n",
    "       \"point\":[879,876,673,899,740]})\n",
    "print(df1)\n",
    "#using group by command\n",
    "df1.groupby('Team').groups\n",
    "df1.groupby(['Team','year']).groups\n",
    "grouped=df1.groupby('Team')\n",
    "print(grouped['point'].agg(np.mean))\n",
    "print(grouped.agg(np.size))\n",
    "#     print(grouped['point'].agg([np.sum,np.mean,np.std]))\n"
   ]
  },
  {
   "cell_type": "code",
   "execution_count": 11,
   "id": "9194b191",
   "metadata": {},
   "outputs": [],
   "source": [
    "# #transformation\n",
    "# grouped = df1.groupby('Team')\n",
    "# score = lambda x:(x-x.mean()/x.std*10)\n",
    "# print(grouped.transform(score))"
   ]
  },
  {
   "cell_type": "code",
   "execution_count": 13,
   "id": "2fc2fb11",
   "metadata": {},
   "outputs": [
    {
     "name": "stdout",
     "output_type": "stream",
     "text": [
      "Empty DataFrame\n",
      "Columns: [Team, Rank, year, point]\n",
      "Index: []\n"
     ]
    }
   ],
   "source": [
    "#filteration\n",
    "print(df1.groupby('Team').filter(lambda x:len(x)>=3))"
   ]
  },
  {
   "cell_type": "code",
   "execution_count": 21,
   "id": "e17a4e39",
   "metadata": {},
   "outputs": [],
   "source": [
    "# #merging and joining of data frames:-\n",
    "# import numpy as np\n",
    "# import pandas as pd\n",
    "\n",
    "# left=pd.DataFrame({\"id\":[1,2,3,4,5],\n",
    "#                   \"name\":[\"himanshu\",\"priyanshu\",\"shivanshu\",\"divyanshu\",\"sudhansu\"],\n",
    "#                   \"suject_id\":[\"s1\",\"s2\",\"s4\",\"s6\",\"s5\"]})\n",
    "# right=pd.DataFrame({\"id\":[1,2,3,4,50],\n",
    "#                    \"name\":[\"kk\",\"gk\",\"pk\",\"dk\",\"hk\"],\n",
    "#                    \"subject_id\":[\"s2\",\"s4\",\"s3\",\"s6\",\"s5\"]})\n",
    "# print(pd.merge(left,right,on=\"id\"))\n",
    "# print(pd.merge(left,right,on=[\"id\",\"subject_id\"]))\n",
    "# print(pd.merge(left,right,on=\"subject_id\",how=\"left\"))\n",
    "# print(pd.merge(left,right,on=\"subject_id\",how=\"right\"))\n",
    "# print(pd.merge(left,right,how='outer',on=\"subject_id\"))#outer join\n",
    "# print(pd.merge(left,right,how='inner',on=\"subject_id\"))"
   ]
  },
  {
   "cell_type": "code",
   "execution_count": 27,
   "id": "06362c0c",
   "metadata": {},
   "outputs": [
    {
     "name": "stdout",
     "output_type": "stream",
     "text": [
      "   id       name suject_id subject_id\n",
      "0   1   himanshu        s1        NaN\n",
      "1   2  priyanshu        s2        NaN\n",
      "2   3  shivanshu        s4        NaN\n",
      "3   4  divyanshu        s6        NaN\n",
      "4   5   sudhansu        s5        NaN\n",
      "0   1         kk       NaN         s2\n",
      "1   2         gk       NaN         s4\n",
      "2   3         pk       NaN         s3\n",
      "3   4         dk       NaN         s6\n",
      "4  50         hk       NaN         s5\n",
      "     id       name suject_id subject_id\n",
      "x 0   1   himanshu        s1        NaN\n",
      "  1   2  priyanshu        s2        NaN\n",
      "  2   3  shivanshu        s4        NaN\n",
      "  3   4  divyanshu        s6        NaN\n",
      "  4   5   sudhansu        s5        NaN\n",
      "y 0   1         kk       NaN         s2\n",
      "  1   2         gk       NaN         s4\n",
      "  2   3         pk       NaN         s3\n",
      "  3   4         dk       NaN         s6\n",
      "  4  50         hk       NaN         s5\n",
      "   id       name suject_id subject_id\n",
      "0   1   himanshu        s1        NaN\n",
      "1   2  priyanshu        s2        NaN\n",
      "2   3  shivanshu        s4        NaN\n",
      "3   4  divyanshu        s6        NaN\n",
      "4   5   sudhansu        s5        NaN\n",
      "5   1         kk       NaN         s2\n",
      "6   2         gk       NaN         s4\n",
      "7   3         pk       NaN         s3\n",
      "8   4         dk       NaN         s6\n",
      "9  50         hk       NaN         s5\n",
      "   id       name suject_id  id name subject_id\n",
      "0   1   himanshu        s1   1   kk         s2\n",
      "1   2  priyanshu        s2   2   gk         s4\n",
      "2   3  shivanshu        s4   3   pk         s3\n",
      "3   4  divyanshu        s6   4   dk         s6\n",
      "4   5   sudhansu        s5  50   hk         s5\n",
      "   id       name suject_id subject_id\n",
      "0   1   himanshu        s1        NaN\n",
      "1   2  priyanshu        s2        NaN\n",
      "2   3  shivanshu        s4        NaN\n",
      "3   4  divyanshu        s6        NaN\n",
      "4   5   sudhansu        s5        NaN\n",
      "0   1         kk       NaN         s2\n",
      "1   2         gk       NaN         s4\n",
      "2   3         pk       NaN         s3\n",
      "3   4         dk       NaN         s6\n",
      "4  50         hk       NaN         s5\n",
      "   id       name suject_id subject_id\n",
      "0   1   himanshu        s1        NaN\n",
      "1   2  priyanshu        s2        NaN\n",
      "2   3  shivanshu        s4        NaN\n",
      "3   4  divyanshu        s6        NaN\n",
      "4   5   sudhansu        s5        NaN\n",
      "0   1         kk       NaN         s2\n",
      "1   2         gk       NaN         s4\n",
      "2   3         pk       NaN         s3\n",
      "3   4         dk       NaN         s6\n",
      "4  50         hk       NaN         s5\n",
      "0   1   himanshu        s1        NaN\n",
      "1   2  priyanshu        s2        NaN\n",
      "2   3  shivanshu        s4        NaN\n",
      "3   4  divyanshu        s6        NaN\n",
      "4   5   sudhansu        s5        NaN\n",
      "0   1   himanshu        s1        NaN\n",
      "1   2  priyanshu        s2        NaN\n",
      "2   3  shivanshu        s4        NaN\n",
      "3   4  divyanshu        s6        NaN\n",
      "4   5   sudhansu        s5        NaN\n",
      "0   1         kk       NaN         s2\n",
      "1   2         gk       NaN         s4\n",
      "2   3         pk       NaN         s3\n",
      "3   4         dk       NaN         s6\n",
      "4  50         hk       NaN         s5\n"
     ]
    },
    {
     "name": "stderr",
     "output_type": "stream",
     "text": [
      "C:\\Users\\hs864\\AppData\\Local\\Temp\\ipykernel_5988\\3237102875.py:6: FutureWarning: The frame.append method is deprecated and will be removed from pandas in a future version. Use pandas.concat instead.\n",
      "  print(left.append(right))\n",
      "C:\\Users\\hs864\\AppData\\Local\\Temp\\ipykernel_5988\\3237102875.py:7: FutureWarning: The frame.append method is deprecated and will be removed from pandas in a future version. Use pandas.concat instead.\n",
      "  print(left.append([right,left,left,right]))\n"
     ]
    }
   ],
   "source": [
    "#concatenation\n",
    "print(pd.concat([left,right]))# vertical axis =0\n",
    "print(pd.concat([left,right],keys=['x','y']))\n",
    "print(pd.concat([left,right],keys=['x','y'],ignore_index=True))\n",
    "print(pd.concat([left,right],axis=1))#giving error\n",
    "print(left.append(right))\n",
    "print(left.append([right,left,left,right]))"
   ]
  },
  {
   "cell_type": "code",
   "execution_count": 38,
   "id": "997df91e",
   "metadata": {},
   "outputs": [
    {
     "ename": "SyntaxError",
     "evalue": "invalid syntax (3922251804.py, line 10)",
     "output_type": "error",
     "traceback": [
      "\u001b[1;36m  Input \u001b[1;32mIn [38]\u001b[1;36m\u001b[0m\n\u001b[1;33m    df=pd.DataFrame(dict[a=s,b=td])\u001b[0m\n\u001b[1;37m                          ^\u001b[0m\n\u001b[1;31mSyntaxError\u001b[0m\u001b[1;31m:\u001b[0m invalid syntax\n"
     ]
    }
   ],
   "source": [
    "#using date and time function\n",
    "#data selection with row or coloumn indices or cell values\n",
    "print(pd.date_range('01/01/2011',periods=5))\n",
    "print(pd.date_range('01/01/2011',periods=5,freq='m'))\n",
    "print('Day & Time is:',pd.Timedelta('2days,2hours,15minutes,30seconds'))\n",
    "print(pd.Timedelta(6,unit='h'))\n",
    "print(pd.Timedelta(days=2))\n",
    "s=pd.Series(pd.date_range('2012-1-1',periods=3,freq='D'))\n",
    "td=pd.Series([pd.Timedelta(days=i) for i in range(3)])\n",
    "df=pd.DataFrame(dict[a=s,b=td])\n",
    "print(df)\n",
    "df['c']=df['a']+df['b']\n",
    "print(df)"
   ]
  },
  {
   "cell_type": "code",
   "execution_count": 39,
   "id": "e415a7bd",
   "metadata": {},
   "outputs": [
    {
     "name": "stdout",
     "output_type": "stream",
     "text": [
      "     Team Rank  year  point\n",
      "0  Riders  2nd  2014    879\n",
      "1  Riders  2nd  2015    876\n",
      "2  Devils  1st  2015    673\n",
      "3    King  3rd  2013    899\n",
      "4  Royals  4th  2012    740\n",
      "0    Riders\n",
      "1    Riders\n",
      "2    Devils\n",
      "3      King\n",
      "4    Royals\n",
      "Name: Team, dtype: object\n"
     ]
    },
    {
     "ename": "KeyError",
     "evalue": "\"['Points'] not in index\"",
     "output_type": "error",
     "traceback": [
      "\u001b[1;31m---------------------------------------------------------------------------\u001b[0m",
      "\u001b[1;31mKeyError\u001b[0m                                  Traceback (most recent call last)",
      "Input \u001b[1;32mIn [39]\u001b[0m, in \u001b[0;36m<cell line: 4>\u001b[1;34m()\u001b[0m\n\u001b[0;32m      2\u001b[0m \u001b[38;5;28mprint\u001b[39m(df1\u001b[38;5;241m.\u001b[39mhead(\u001b[38;5;241m5\u001b[39m))\n\u001b[0;32m      3\u001b[0m \u001b[38;5;28mprint\u001b[39m(df1[\u001b[38;5;124m'\u001b[39m\u001b[38;5;124mTeam\u001b[39m\u001b[38;5;124m'\u001b[39m]\u001b[38;5;241m.\u001b[39mhead(\u001b[38;5;241m5\u001b[39m))\n\u001b[1;32m----> 4\u001b[0m \u001b[38;5;28mprint\u001b[39m(\u001b[43mdf1\u001b[49m\u001b[43m[\u001b[49m\u001b[43m[\u001b[49m\u001b[38;5;124;43m'\u001b[39;49m\u001b[38;5;124;43mTeam\u001b[39;49m\u001b[38;5;124;43m'\u001b[39;49m\u001b[43m,\u001b[49m\u001b[38;5;124;43m'\u001b[39;49m\u001b[38;5;124;43mPoints\u001b[39;49m\u001b[38;5;124;43m'\u001b[39;49m\u001b[43m]\u001b[49m\u001b[43m]\u001b[49m\u001b[38;5;241m.\u001b[39mhead(\u001b[38;5;241m5\u001b[39m))\n",
      "File \u001b[1;32m~\\anaconda3\\lib\\site-packages\\pandas\\core\\frame.py:3511\u001b[0m, in \u001b[0;36mDataFrame.__getitem__\u001b[1;34m(self, key)\u001b[0m\n\u001b[0;32m   3509\u001b[0m     \u001b[38;5;28;01mif\u001b[39;00m is_iterator(key):\n\u001b[0;32m   3510\u001b[0m         key \u001b[38;5;241m=\u001b[39m \u001b[38;5;28mlist\u001b[39m(key)\n\u001b[1;32m-> 3511\u001b[0m     indexer \u001b[38;5;241m=\u001b[39m \u001b[38;5;28;43mself\u001b[39;49m\u001b[38;5;241;43m.\u001b[39;49m\u001b[43mcolumns\u001b[49m\u001b[38;5;241;43m.\u001b[39;49m\u001b[43m_get_indexer_strict\u001b[49m\u001b[43m(\u001b[49m\u001b[43mkey\u001b[49m\u001b[43m,\u001b[49m\u001b[43m \u001b[49m\u001b[38;5;124;43m\"\u001b[39;49m\u001b[38;5;124;43mcolumns\u001b[39;49m\u001b[38;5;124;43m\"\u001b[39;49m\u001b[43m)\u001b[49m[\u001b[38;5;241m1\u001b[39m]\n\u001b[0;32m   3513\u001b[0m \u001b[38;5;66;03m# take() does not accept boolean indexers\u001b[39;00m\n\u001b[0;32m   3514\u001b[0m \u001b[38;5;28;01mif\u001b[39;00m \u001b[38;5;28mgetattr\u001b[39m(indexer, \u001b[38;5;124m\"\u001b[39m\u001b[38;5;124mdtype\u001b[39m\u001b[38;5;124m\"\u001b[39m, \u001b[38;5;28;01mNone\u001b[39;00m) \u001b[38;5;241m==\u001b[39m \u001b[38;5;28mbool\u001b[39m:\n",
      "File \u001b[1;32m~\\anaconda3\\lib\\site-packages\\pandas\\core\\indexes\\base.py:5782\u001b[0m, in \u001b[0;36mIndex._get_indexer_strict\u001b[1;34m(self, key, axis_name)\u001b[0m\n\u001b[0;32m   5779\u001b[0m \u001b[38;5;28;01melse\u001b[39;00m:\n\u001b[0;32m   5780\u001b[0m     keyarr, indexer, new_indexer \u001b[38;5;241m=\u001b[39m \u001b[38;5;28mself\u001b[39m\u001b[38;5;241m.\u001b[39m_reindex_non_unique(keyarr)\n\u001b[1;32m-> 5782\u001b[0m \u001b[38;5;28;43mself\u001b[39;49m\u001b[38;5;241;43m.\u001b[39;49m\u001b[43m_raise_if_missing\u001b[49m\u001b[43m(\u001b[49m\u001b[43mkeyarr\u001b[49m\u001b[43m,\u001b[49m\u001b[43m \u001b[49m\u001b[43mindexer\u001b[49m\u001b[43m,\u001b[49m\u001b[43m \u001b[49m\u001b[43maxis_name\u001b[49m\u001b[43m)\u001b[49m\n\u001b[0;32m   5784\u001b[0m keyarr \u001b[38;5;241m=\u001b[39m \u001b[38;5;28mself\u001b[39m\u001b[38;5;241m.\u001b[39mtake(indexer)\n\u001b[0;32m   5785\u001b[0m \u001b[38;5;28;01mif\u001b[39;00m \u001b[38;5;28misinstance\u001b[39m(key, Index):\n\u001b[0;32m   5786\u001b[0m     \u001b[38;5;66;03m# GH 42790 - Preserve name from an Index\u001b[39;00m\n",
      "File \u001b[1;32m~\\anaconda3\\lib\\site-packages\\pandas\\core\\indexes\\base.py:5845\u001b[0m, in \u001b[0;36mIndex._raise_if_missing\u001b[1;34m(self, key, indexer, axis_name)\u001b[0m\n\u001b[0;32m   5842\u001b[0m     \u001b[38;5;28;01mraise\u001b[39;00m \u001b[38;5;167;01mKeyError\u001b[39;00m(\u001b[38;5;124mf\u001b[39m\u001b[38;5;124m\"\u001b[39m\u001b[38;5;124mNone of [\u001b[39m\u001b[38;5;132;01m{\u001b[39;00mkey\u001b[38;5;132;01m}\u001b[39;00m\u001b[38;5;124m] are in the [\u001b[39m\u001b[38;5;132;01m{\u001b[39;00maxis_name\u001b[38;5;132;01m}\u001b[39;00m\u001b[38;5;124m]\u001b[39m\u001b[38;5;124m\"\u001b[39m)\n\u001b[0;32m   5844\u001b[0m not_found \u001b[38;5;241m=\u001b[39m \u001b[38;5;28mlist\u001b[39m(ensure_index(key)[missing_mask\u001b[38;5;241m.\u001b[39mnonzero()[\u001b[38;5;241m0\u001b[39m]]\u001b[38;5;241m.\u001b[39munique())\n\u001b[1;32m-> 5845\u001b[0m \u001b[38;5;28;01mraise\u001b[39;00m \u001b[38;5;167;01mKeyError\u001b[39;00m(\u001b[38;5;124mf\u001b[39m\u001b[38;5;124m\"\u001b[39m\u001b[38;5;132;01m{\u001b[39;00mnot_found\u001b[38;5;132;01m}\u001b[39;00m\u001b[38;5;124m not in index\u001b[39m\u001b[38;5;124m\"\u001b[39m)\n",
      "\u001b[1;31mKeyError\u001b[0m: \"['Points'] not in index\""
     ]
    }
   ],
   "source": [
    "#Slicing \n",
    "print(df1.head(5))\n",
    "print(df1['Team'].head(5))\n",
    "print(df1[['Team','Points']].head(5))\n"
   ]
  }
 ],
 "metadata": {
  "kernelspec": {
   "display_name": "Python 3 (ipykernel)",
   "language": "python",
   "name": "python3"
  },
  "language_info": {
   "codemirror_mode": {
    "name": "ipython",
    "version": 3
   },
   "file_extension": ".py",
   "mimetype": "text/x-python",
   "name": "python",
   "nbconvert_exporter": "python",
   "pygments_lexer": "ipython3",
   "version": "3.9.12"
  }
 },
 "nbformat": 4,
 "nbformat_minor": 5
}
