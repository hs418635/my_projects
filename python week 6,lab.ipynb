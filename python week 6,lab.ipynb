{
 "cells": [
  {
   "cell_type": "code",
   "execution_count": 1,
   "id": "9376d6a8",
   "metadata": {},
   "outputs": [],
   "source": [
    "import pandas as pd"
   ]
  },
  {
   "cell_type": "code",
   "execution_count": 10,
   "id": "70fb0b36",
   "metadata": {},
   "outputs": [
    {
     "name": "stdout",
     "output_type": "stream",
     "text": [
      "0    26.5\n",
      "1    31.6\n",
      "2    31.3\n",
      "dtype: float64\n",
      "Name      kikky rahul aman\n",
      "Age                     78\n",
      "Rating                11.4\n",
      "dtype: object\n"
     ]
    },
    {
     "name": "stderr",
     "output_type": "stream",
     "text": [
      "C:\\Users\\hs864\\AppData\\Local\\Temp\\ipykernel_16024\\2694951173.py:5: FutureWarning: Dropping of nuisance columns in DataFrame reductions (with 'numeric_only=None') is deprecated; in a future version this will raise TypeError.  Select only valid columns before calling the reduction.\n",
      "  print(df.sum(1))\n"
     ]
    }
   ],
   "source": [
    "d={'Name':pd.Series(['kikky',' rahul',' aman']),\n",
    "  'Age':pd.Series([25,26,27]),\n",
    "  'Rating':pd.Series([1.5,5.6,4.3])}\n",
    "df=pd.DataFrame(d)\n",
    "print(df.sum(1))\n",
    "print(df.sum(axis=0))"
   ]
  },
  {
   "cell_type": "code",
   "execution_count": 11,
   "id": "3985cb28",
   "metadata": {},
   "outputs": [
    {
     "name": "stdout",
     "output_type": "stream",
     "text": [
      "0    26.5\n",
      "1    31.6\n",
      "2    31.3\n",
      "dtype: float64\n",
      "0    26.5\n",
      "1    31.6\n",
      "2    31.3\n",
      "dtype: float64\n"
     ]
    },
    {
     "name": "stderr",
     "output_type": "stream",
     "text": [
      "C:\\Users\\hs864\\AppData\\Local\\Temp\\ipykernel_16024\\1901818093.py:5: FutureWarning: Dropping of nuisance columns in DataFrame reductions (with 'numeric_only=None') is deprecated; in a future version this will raise TypeError.  Select only valid columns before calling the reduction.\n",
      "  print(df.sum(1))\n",
      "C:\\Users\\hs864\\AppData\\Local\\Temp\\ipykernel_16024\\1901818093.py:6: FutureWarning: Dropping of nuisance columns in DataFrame reductions (with 'numeric_only=None') is deprecated; in a future version this will raise TypeError.  Select only valid columns before calling the reduction.\n",
      "  print(df.sum(axis=1))\n"
     ]
    }
   ],
   "source": [
    "d={'Name':pd.Series(['kikky',' rahul','himanshu']),\n",
    "  'Age':pd.Series([25,26,27]),\n",
    "  'Rating':pd.Series([1.5,5.6,4.3])}\n",
    "df=pd.DataFrame(d)\n",
    "print(df.sum(1))\n",
    "print(df.sum(axis=1))"
   ]
  },
  {
   "cell_type": "code",
   "execution_count": 12,
   "id": "4a2f520b",
   "metadata": {},
   "outputs": [
    {
     "name": "stdout",
     "output_type": "stream",
     "text": [
      "0    13.25\n",
      "1    15.80\n",
      "2    15.65\n",
      "dtype: float64\n",
      "Name      kikky rahul himanshu\n",
      "Age                         78\n",
      "Rating                    11.4\n",
      "dtype: object\n"
     ]
    },
    {
     "name": "stderr",
     "output_type": "stream",
     "text": [
      "C:\\Users\\hs864\\AppData\\Local\\Temp\\ipykernel_16024\\2290692853.py:5: FutureWarning: Dropping of nuisance columns in DataFrame reductions (with 'numeric_only=None') is deprecated; in a future version this will raise TypeError.  Select only valid columns before calling the reduction.\n",
      "  print(df.mean(1))\n"
     ]
    }
   ],
   "source": [
    "d={'Name':pd.Series(['kikky',' rahul',' himanshu']),\n",
    "  'Age':pd.Series([25,26,27]),\n",
    "  'Rating':pd.Series([1.5,5.6,4.3])}\n",
    "df=pd.DataFrame(d)\n",
    "print(df.mean(1))\n",
    "print(df.sum(axis=0))"
   ]
  },
  {
   "cell_type": "code",
   "execution_count": 13,
   "id": "a3fb0334",
   "metadata": {},
   "outputs": [
    {
     "name": "stdout",
     "output_type": "stream",
     "text": [
      "        Age    Rating\n",
      "count   3.0  3.000000\n",
      "mean   26.0  3.800000\n",
      "std     1.0  2.095233\n",
      "min    25.0  1.500000\n",
      "25%    25.5  2.900000\n",
      "50%    26.0  4.300000\n",
      "75%    26.5  4.950000\n",
      "max    27.0  5.600000\n"
     ]
    }
   ],
   "source": [
    "d={'Name':pd.Series(['kikky','rahul','aman']),\n",
    "  'Age':pd.Series([25,26,27]),\n",
    "  'Rating':pd.Series([1.5,5.6,4.3])}\n",
    "df=pd.DataFrame(d)\n",
    "print(df.describe())"
   ]
  },
  {
   "cell_type": "code",
   "execution_count": 17,
   "id": "3aaaacd4",
   "metadata": {},
   "outputs": [],
   "source": [
    "import numpy as np"
   ]
  },
  {
   "cell_type": "code",
   "execution_count": 29,
   "id": "3694cdc6",
   "metadata": {},
   "outputs": [
    {
     "name": "stdout",
     "output_type": "stream",
     "text": [
      "Age       26.0\n",
      "Rating     3.8\n",
      "dtype: float64\n"
     ]
    }
   ],
   "source": [
    "d={\n",
    "  'Age':pd.Series([25,26,27]),\n",
    "  'Rating':pd.Series([1.5,5.6,4.3])}\n",
    "df=pd.DataFrame(d)\n",
    "print(df.apply(np.mean))\n"
   ]
  },
  {
   "cell_type": "code",
   "execution_count": 30,
   "id": "d6d24251",
   "metadata": {},
   "outputs": [
    {
     "name": "stdout",
     "output_type": "stream",
     "text": [
      "0    13.25\n",
      "1    15.80\n",
      "2    15.65\n",
      "dtype: float64\n"
     ]
    }
   ],
   "source": [
    "d={\n",
    "  'Age':pd.Series([25,26,27]),\n",
    "  'Rating':pd.Series([1.5,5.6,4.3])}\n",
    "df=pd.DataFrame(d)\n",
    "print(df.apply(np.mean,axis=1))"
   ]
  },
  {
   "cell_type": "code",
   "execution_count": 3,
   "id": "2beea2cf",
   "metadata": {},
   "outputs": [],
   "source": [
    "import pandas as pd"
   ]
  },
  {
   "cell_type": "code",
   "execution_count": 4,
   "id": "2224a9dc",
   "metadata": {},
   "outputs": [
    {
     "name": "stdout",
     "output_type": "stream",
     "text": [
      "   Age  Rating\n",
      "0   27     3.5\n",
      "1   28     7.6\n",
      "2   29     6.3\n"
     ]
    }
   ],
   "source": [
    "#pipe method\n",
    "d={\n",
    "  'Age':pd.Series([25,26,27]),\n",
    "  'Rating':pd.Series([1.5,5.6,4.3])}\n",
    "df=pd.DataFrame(d)\n",
    "def adder(ele1,ele2):\n",
    "    return ele1 + ele2\n",
    "print(df.pipe(adder,2))"
   ]
  },
  {
   "cell_type": "code",
   "execution_count": 6,
   "id": "fa7a13ba",
   "metadata": {},
   "outputs": [],
   "source": [
    "import numpy as np"
   ]
  },
  {
   "cell_type": "code",
   "execution_count": 7,
   "id": "fab5ae2d",
   "metadata": {},
   "outputs": [
    {
     "name": "stdout",
     "output_type": "stream",
     "text": [
      "Age       26.0\n",
      "Rating     3.8\n",
      "dtype: float64\n"
     ]
    }
   ],
   "source": [
    "d={\n",
    "  'Age':pd.Series([25,26,27]),\n",
    "  'Rating':pd.Series([1.5,5.6,4.3])}\n",
    "df=pd.DataFrame(d)\n",
    "print(df.apply(np.mean))"
   ]
  },
  {
   "cell_type": "code",
   "execution_count": 8,
   "id": "781c7eff",
   "metadata": {},
   "outputs": [
    {
     "name": "stdout",
     "output_type": "stream",
     "text": [
      "0    13.25\n",
      "1    15.80\n",
      "2    15.65\n",
      "dtype: float64\n"
     ]
    }
   ],
   "source": [
    "d={\n",
    "  'Age':pd.Series([25,26,27]),\n",
    "  'Rating':pd.Series([1.5,5.6,4.3])}\n",
    "df=pd.DataFrame(d)\n",
    "print(df.apply(np.mean, axis=1))"
   ]
  },
  {
   "cell_type": "code",
   "execution_count": 19,
   "id": "0849d072",
   "metadata": {},
   "outputs": [
    {
     "ename": "SyntaxError",
     "evalue": "invalid syntax (1916681801.py, line 6)",
     "output_type": "error",
     "traceback": [
      "\u001b[1;36m  Input \u001b[1;32mIn [19]\u001b[1;36m\u001b[0m\n\u001b[1;33m    df{'x'}.map(lambda x:x*100)\u001b[0m\n\u001b[1;37m      ^\u001b[0m\n\u001b[1;31mSyntaxError\u001b[0m\u001b[1;31m:\u001b[0m invalid syntax\n"
     ]
    }
   ],
   "source": [
    "#map method will give vector to vector\n",
    "d={\n",
    "  'Age':pd.Series([25,26,27]),\n",
    "  'Rating':pd.Series([1.5,5.6,4.3])}\n",
    "df=pd.DataFrame(d)\n",
    "df{'x'}.map(lambda x:x*100)\n",
    "df.apply(lambda x:x.max()-X.min())"
   ]
  },
  {
   "cell_type": "code",
   "execution_count": 26,
   "id": "9fadeda4",
   "metadata": {},
   "outputs": [
    {
     "name": "stdout",
     "output_type": "stream",
     "text": [
      "0                Tom \n",
      "1      William Rock  \n",
      "2              John  \n",
      "dtype: object\n",
      "0                tom \n",
      "1      william rock  \n",
      "2              john  \n",
      "dtype: object\n",
      "0     5\n",
      "1    16\n",
      "2     8\n",
      "dtype: int64\n",
      "0               [ Tom ]\n",
      "1    [, William Rock, ]\n",
      "2            [, John, ]\n",
      "dtype: object\n"
     ]
    }
   ],
   "source": [
    "s=pd.Series([' Tom ','  William Rock  ','  John  '])\n",
    "print(s)\n",
    "\n",
    "print(s.str.lower())\n",
    "\n",
    "print(s.str.len())\n",
    "\n",
    "print(s.str.split('  '))"
   ]
  },
  {
   "cell_type": "code",
   "execution_count": 29,
   "id": "95ccb3f1",
   "metadata": {},
   "outputs": [
    {
     "name": "stdout",
     "output_type": "stream",
     "text": [
      "   John  Tom  William Rock\n",
      "0     0    1             0\n",
      "1     0    0             1\n",
      "2     1    0             0\n",
      "0    False\n",
      "1     True\n",
      "2    False\n",
      "dtype: bool\n",
      "0             T#m\n",
      "1    William R#ck\n",
      "2            J#hn\n",
      "dtype: object\n"
     ]
    }
   ],
   "source": [
    "#one hot encoding\n",
    "s=pd.Series(['Tom','William Rock','John'])\n",
    "print(s.str.get_dummies())\n",
    "print(s.str.contains(' '))\n",
    "print(s.str.replace('o','#'))"
   ]
  },
  {
   "cell_type": "code",
   "execution_count": 31,
   "id": "16946761",
   "metadata": {},
   "outputs": [
    {
     "name": "stdout",
     "output_type": "stream",
     "text": [
      "A\n",
      "B\n",
      "C\n",
      "A 0    1\n",
      "1    9\n",
      "2    7\n",
      "Name: A, dtype: int64\n",
      "B 0    20\n",
      "1    21\n",
      "2    29\n",
      "Name: B, dtype: int64\n",
      "C 0    40\n",
      "1    43\n",
      "2    44\n",
      "Name: C, dtype: int64\n"
     ]
    }
   ],
   "source": [
    "#Iterating a Dataframe\n",
    "df=pd.DataFrame({'A':[1,9,7],'B':[20,21,29],'C':[40,43,44]})\n",
    "for pqr in df:\n",
    "    print(pqr)\n",
    "    \n",
    "for key, value in df.iteritems():\n",
    "    print(key,value)"
   ]
  },
  {
   "cell_type": "code",
   "execution_count": 33,
   "id": "42cdbb47",
   "metadata": {},
   "outputs": [
    {
     "name": "stdout",
     "output_type": "stream",
     "text": [
      "A 0    1\n",
      "1    9\n",
      "2    7\n",
      "Name: A, dtype: int64\n",
      "B 0    20\n",
      "1    21\n",
      "2    29\n",
      "Name: B, dtype: int64\n",
      "C 0    40\n",
      "1    43\n",
      "2    44\n",
      "Name: C, dtype: int64\n"
     ]
    }
   ],
   "source": [
    "df=pd.DataFrame({'A':[1,9,7],'B':[20,21,29],'C':[40,43,44]})\n",
    "    \n",
    "for row_index, row in df.iteritems():\n",
    "    print(row_index,row)"
   ]
  },
  {
   "cell_type": "code",
   "execution_count": null,
   "id": "41cd7b88",
   "metadata": {},
   "outputs": [],
   "source": []
  }
 ],
 "metadata": {
  "kernelspec": {
   "display_name": "Python 3 (ipykernel)",
   "language": "python",
   "name": "python3"
  },
  "language_info": {
   "codemirror_mode": {
    "name": "ipython",
    "version": 3
   },
   "file_extension": ".py",
   "mimetype": "text/x-python",
   "name": "python",
   "nbconvert_exporter": "python",
   "pygments_lexer": "ipython3",
   "version": "3.9.12"
  }
 },
 "nbformat": 4,
 "nbformat_minor": 5
}
