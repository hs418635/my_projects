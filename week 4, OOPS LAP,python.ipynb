{
 "cells": [
  {
   "cell_type": "code",
   "execution_count": 5,
   "id": "2aede4a9",
   "metadata": {},
   "outputs": [
    {
     "name": "stdout",
     "output_type": "stream",
     "text": [
      "240 18\n"
     ]
    }
   ],
   "source": [
    "# OOP exercise1:Create a class with instance attributes\n",
    "class Vehicle:\n",
    "    def __init__(self,max_speed,mileage):\n",
    "        self.max_speed = max_speed\n",
    "        self.mileage = mileage\n",
    "        \n",
    "modelX = Vehicle(240,18)\n",
    "print(modelX.max_speed, modelX.mileage)"
   ]
  },
  {
   "cell_type": "code",
   "execution_count": 11,
   "id": "a96be1de",
   "metadata": {},
   "outputs": [],
   "source": [
    "#OOP Exercise 2: Create a Vehicle class without any variables and methods \n",
    "class vehicle:\n",
    "    pass"
   ]
  },
  {
   "cell_type": "code",
   "execution_count": 17,
   "id": "62f7af97",
   "metadata": {},
   "outputs": [
    {
     "name": "stdout",
     "output_type": "stream",
     "text": [
      "Vehicle Name: Racing_car Speed: 580 Mileage: 22\n"
     ]
    }
   ],
   "source": [
    "# OOP Exercise 3: Create a child class Bus that will inherit all of the variables and methods of the Vehicle class\n",
    "class Vehicle:\n",
    "\n",
    "    def __init__(self, name, max_speed, mileage):\n",
    "        self.name = name\n",
    "        self.max_speed = max_speed\n",
    "        self.mileage = mileage\n",
    "\n",
    "class Car(Vehicle):\n",
    "    pass\n",
    "\n",
    "Racing_car = Bus(\"Racing_car\", 580, 22)\n",
    "print(\"Vehicle Name:\", Racing_car.name, \"Speed:\", Racing_car.max_speed, \"Mileage:\", Racing_car.mileage)"
   ]
  }
 ],
 "metadata": {
  "kernelspec": {
   "display_name": "Python 3 (ipykernel)",
   "language": "python",
   "name": "python3"
  },
  "language_info": {
   "codemirror_mode": {
    "name": "ipython",
    "version": 3
   },
   "file_extension": ".py",
   "mimetype": "text/x-python",
   "name": "python",
   "nbconvert_exporter": "python",
   "pygments_lexer": "ipython3",
   "version": "3.9.12"
  }
 },
 "nbformat": 4,
 "nbformat_minor": 5
}
